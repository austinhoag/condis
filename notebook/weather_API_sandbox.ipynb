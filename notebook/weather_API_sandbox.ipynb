{
 "cells": [
  {
   "cell_type": "code",
   "execution_count": 1,
   "metadata": {
    "collapsed": false
   },
   "outputs": [],
   "source": [
    "from noaa_sdk import noaa\n",
    "import requests\n",
    "import numpy as np\n",
    "import pandas as pd\n",
    "from datetime import datetime,timedelta\n",
    "import matplotlib.pyplot as plt\n",
    "%matplotlib inline"
   ]
  },
  {
   "cell_type": "code",
   "execution_count": null,
   "metadata": {
    "collapsed": true
   },
   "outputs": [],
   "source": [
    "response = requests.get('https://api.weather.gov/gridpoints/PHI/58,91')\n",
    "j=response.json()\n",
    "properties=j['properties']"
   ]
  },
  {
   "cell_type": "code",
   "execution_count": 89,
   "metadata": {
    "collapsed": true
   },
   "outputs": [],
   "source": [
    "def init_temp_df():\n",
    "    temp_dicts=properties['temperature']\n",
    "    temp_lists=temp_dicts['values']\n",
    "    df_temp=pd.DataFrame(temp_lists)\n",
    "    df_temp['temp_f']=df_temp['value']*9/5.+32\n",
    "    df_temp['timestamp']=pd.to_datetime(df_temp['validTime'].map(lambda x: str(x).split('+')[0]))\n",
    "    # set to local time from UTC (default)\n",
    "    df_temp['timestamp']-=timedelta(hours=4)\n",
    "    df_temp['msr_duration']=df_temp['validTime'].map(lambda x: int(str(x).split('PT')[-1].split('H')[0]))\n",
    "    df_temp.drop(['validTime','value'],axis=1,inplace=True)\n",
    "    df_temp = df_temp[['timestamp','msr_duration','temp_f']]\n",
    "    return df_temp"
   ]
  },
  {
   "cell_type": "code",
   "execution_count": 90,
   "metadata": {
    "collapsed": false
   },
   "outputs": [],
   "source": [
    "df_temp = init_temp_df()"
   ]
  },
  {
   "cell_type": "code",
   "execution_count": 83,
   "metadata": {
    "collapsed": false
   },
   "outputs": [],
   "source": [
    "def expand_dataframe(df):\n",
    "    \"\"\"For any rows where the duration of the measurement\n",
    "    is over more than one hour, make a new row duplicate row \n",
    "    (but with incremented timestamp) for each hour in the duration\"\"\"\n",
    "    dfc = df.copy() # makes a copy so the original is not affected\n",
    "    mask = dfc['msr_duration'] > 1\n",
    "    n_rows_multiple_durations = len(dfc[mask]) # variable to store the number of rows where the measurement stands for multiple hours\n",
    "    print(f\"There are originally {n_rows_multiple_durations} multiple rows\")\n",
    "    counter = 0\n",
    "    while n_rows_multiple_durations > 0:\n",
    "        # Make a new dataframe that is just the rows with multiples\n",
    "        new_dfc = dfc.loc[mask].copy()\n",
    "        # set all of the masked rows in the original dataframe to 1 since we will combine back with this dfc in the end\n",
    "        dfc['msr_duration'][mask]=1\n",
    "        # In this new dataframe, increment the timestamp by 1 hour and decrement the msr_duration by 1 hour\n",
    "        new_dfc['timestamp'] += timedelta(hours=1)\n",
    "        new_dfc['msr_duration']-=1\n",
    "        # concatenate this new dfc that we have transformed back with the original, and overwrite the original\n",
    "        dfc = pd.concat([dfc,new_dfc])\n",
    "        # calculate the new mask of multiples on this concatenated array\n",
    "        mask = dfc['msr_duration'] > 1\n",
    "        n_rows_multiple_durations = len(dfc[mask])\n",
    "        counter+=1\n",
    "    # Finally sort by timestamp so the rows fall back in order\n",
    "    dfc = dfc.sort_values('timestamp')\n",
    "    # set the index to a proper increasing numerical index without duplicates\n",
    "    dfc.index = list(range(len(dfc)))\n",
    "    return dfc"
   ]
  },
  {
   "cell_type": "code",
   "execution_count": 91,
   "metadata": {
    "collapsed": false
   },
   "outputs": [
    {
     "name": "stdout",
     "output_type": "stream",
     "text": [
      "There are originally 14 multiple rows\n"
     ]
    },
    {
     "name": "stderr",
     "output_type": "stream",
     "text": [
      "/Users/athair/.local/lib/python3.7/site-packages/ipykernel_launcher.py:14: SettingWithCopyWarning: \n",
      "A value is trying to be set on a copy of a slice from a DataFrame\n",
      "\n",
      "See the caveats in the documentation: https://pandas.pydata.org/pandas-docs/stable/user_guide/indexing.html#returning-a-view-versus-a-copy\n",
      "  \n"
     ]
    }
   ],
   "source": [
    "df_temp_expanded = expand_dataframe(df_temp)"
   ]
  },
  {
   "cell_type": "code",
   "execution_count": 92,
   "metadata": {
    "collapsed": true
   },
   "outputs": [],
   "source": [
    "def init_hum_df():\n",
    "    hum_dicts=properties['relativeHumidity']\n",
    "    hum_lists=hum_dicts['values']\n",
    "    df_hum=pd.DataFrame(hum_lists)\n",
    "    df_hum['relativeHumidity'] = df_hum['value']\n",
    "    df_hum['timestamp']=pd.to_datetime(df_hum['validTime'].map(lambda x: str(x).split('+')[0]))\n",
    "    df_hum['timestamp']-=timedelta(hours=4)\n",
    "    df_hum['msr_duration']=df_hum['validTime'].map(lambda x: int(str(x).split('PT')[-1].split('H')[0]))\n",
    "    df_hum.drop(['validTime','value'],axis=1,inplace=True)\n",
    "    df_hum = df_hum[['timestamp','msr_duration','relativeHumidity']]\n",
    "    return df_hum"
   ]
  },
  {
   "cell_type": "code",
   "execution_count": 93,
   "metadata": {
    "collapsed": false
   },
   "outputs": [],
   "source": [
    "df_hum = init_hum_df()"
   ]
  },
  {
   "cell_type": "code",
   "execution_count": 94,
   "metadata": {
    "collapsed": false
   },
   "outputs": [
    {
     "name": "stdout",
     "output_type": "stream",
     "text": [
      "There are originally 16 multiple rows\n"
     ]
    },
    {
     "name": "stderr",
     "output_type": "stream",
     "text": [
      "/Users/athair/.local/lib/python3.7/site-packages/ipykernel_launcher.py:14: SettingWithCopyWarning: \n",
      "A value is trying to be set on a copy of a slice from a DataFrame\n",
      "\n",
      "See the caveats in the documentation: https://pandas.pydata.org/pandas-docs/stable/user_guide/indexing.html#returning-a-view-versus-a-copy\n",
      "  \n"
     ]
    }
   ],
   "source": [
    "df_hum_expanded = expand_dataframe(df_hum)"
   ]
  },
  {
   "cell_type": "code",
   "execution_count": null,
   "metadata": {
    "collapsed": true
   },
   "outputs": [],
   "source": [
    "# OK great news the timestamp column is now identical in both dataframes from temp and humidity, so I can\n",
    "# do a simple merge and will get all of the data. "
   ]
  },
  {
   "cell_type": "code",
   "execution_count": 95,
   "metadata": {
    "collapsed": false
   },
   "outputs": [],
   "source": [
    "df_final = pd.merge(left=df_temp_expanded, right=df_hum_expanded, left_on='timestamp', right_on='timestamp')\n",
    "df_final = df_final[['timestamp','temp_f','relativeHumidity']]"
   ]
  },
  {
   "cell_type": "code",
   "execution_count": 97,
   "metadata": {
    "collapsed": false
   },
   "outputs": [
    {
     "data": {
      "text/html": [
       "<div>\n",
       "<style scoped>\n",
       "    .dataframe tbody tr th:only-of-type {\n",
       "        vertical-align: middle;\n",
       "    }\n",
       "\n",
       "    .dataframe tbody tr th {\n",
       "        vertical-align: top;\n",
       "    }\n",
       "\n",
       "    .dataframe thead th {\n",
       "        text-align: right;\n",
       "    }\n",
       "</style>\n",
       "<table border=\"1\" class=\"dataframe\">\n",
       "  <thead>\n",
       "    <tr style=\"text-align: right;\">\n",
       "      <th></th>\n",
       "      <th>timestamp</th>\n",
       "      <th>temp_f</th>\n",
       "      <th>relativeHumidity</th>\n",
       "    </tr>\n",
       "  </thead>\n",
       "  <tbody>\n",
       "    <tr>\n",
       "      <th>9</th>\n",
       "      <td>2020-06-27 16:00:00</td>\n",
       "      <td>85.0</td>\n",
       "      <td>55</td>\n",
       "    </tr>\n",
       "    <tr>\n",
       "      <th>10</th>\n",
       "      <td>2020-06-27 17:00:00</td>\n",
       "      <td>83.0</td>\n",
       "      <td>61</td>\n",
       "    </tr>\n",
       "    <tr>\n",
       "      <th>11</th>\n",
       "      <td>2020-06-27 18:00:00</td>\n",
       "      <td>82.0</td>\n",
       "      <td>63</td>\n",
       "    </tr>\n",
       "    <tr>\n",
       "      <th>12</th>\n",
       "      <td>2020-06-27 19:00:00</td>\n",
       "      <td>81.0</td>\n",
       "      <td>67</td>\n",
       "    </tr>\n",
       "    <tr>\n",
       "      <th>13</th>\n",
       "      <td>2020-06-27 20:00:00</td>\n",
       "      <td>80.0</td>\n",
       "      <td>69</td>\n",
       "    </tr>\n",
       "    <tr>\n",
       "      <th>...</th>\n",
       "      <td>...</td>\n",
       "      <td>...</td>\n",
       "      <td>...</td>\n",
       "    </tr>\n",
       "    <tr>\n",
       "      <th>177</th>\n",
       "      <td>2020-07-04 16:00:00</td>\n",
       "      <td>87.0</td>\n",
       "      <td>46</td>\n",
       "    </tr>\n",
       "    <tr>\n",
       "      <th>178</th>\n",
       "      <td>2020-07-04 17:00:00</td>\n",
       "      <td>85.0</td>\n",
       "      <td>51</td>\n",
       "    </tr>\n",
       "    <tr>\n",
       "      <th>179</th>\n",
       "      <td>2020-07-04 18:00:00</td>\n",
       "      <td>84.0</td>\n",
       "      <td>53</td>\n",
       "    </tr>\n",
       "    <tr>\n",
       "      <th>180</th>\n",
       "      <td>2020-07-04 19:00:00</td>\n",
       "      <td>82.0</td>\n",
       "      <td>56</td>\n",
       "    </tr>\n",
       "    <tr>\n",
       "      <th>181</th>\n",
       "      <td>2020-07-04 20:00:00</td>\n",
       "      <td>80.0</td>\n",
       "      <td>60</td>\n",
       "    </tr>\n",
       "  </tbody>\n",
       "</table>\n",
       "<p>173 rows × 3 columns</p>\n",
       "</div>"
      ],
      "text/plain": [
       "              timestamp  temp_f  relativeHumidity\n",
       "9   2020-06-27 16:00:00    85.0                55\n",
       "10  2020-06-27 17:00:00    83.0                61\n",
       "11  2020-06-27 18:00:00    82.0                63\n",
       "12  2020-06-27 19:00:00    81.0                67\n",
       "13  2020-06-27 20:00:00    80.0                69\n",
       "..                  ...     ...               ...\n",
       "177 2020-07-04 16:00:00    87.0                46\n",
       "178 2020-07-04 17:00:00    85.0                51\n",
       "179 2020-07-04 18:00:00    84.0                53\n",
       "180 2020-07-04 19:00:00    82.0                56\n",
       "181 2020-07-04 20:00:00    80.0                60\n",
       "\n",
       "[173 rows x 3 columns]"
      ]
     },
     "execution_count": 97,
     "metadata": {},
     "output_type": "execute_result"
    }
   ],
   "source": [
    "# Only show future times\n",
    "now = datetime.now()\n",
    "future_mask = df_final['timestamp']>now\n",
    "df_final[future_mask]"
   ]
  },
  {
   "cell_type": "code",
   "execution_count": null,
   "metadata": {
    "collapsed": true
   },
   "outputs": [],
   "source": [
    "# OK, so this dataframe is ready to be masked based on conditions"
   ]
  },
  {
   "cell_type": "code",
   "execution_count": null,
   "metadata": {
    "collapsed": false
   },
   "outputs": [],
   "source": [
    "# fig=plt.figure()\n",
    "# ax=fig.add_subplot(2,1,1)\n",
    "fig, axs = plt.subplots(2, 1, sharex=True)\n",
    "fig.subplots_adjust(hspace=0.5)\n",
    "\n",
    "ax=axs[0]\n",
    "ax.plot(merged_inner['timestamp'],merged_inner['temp_f'],color='r')\n",
    "ax.set_ylabel(\"Temperature (F)\")\n",
    "# now plot humidity on second axis\n",
    "ax_hum = axs[1]\n",
    "ax_hum.plot(merged_inner['timestamp'],merged_inner['relative_humidity'],color='g')\n",
    "ax_hum.set_ylabel('% relative humidity')\n",
    "# Rotate tick marks on x-axis\n",
    "_=plt.setp(ax_hum.get_xticklabels(), rotation=45)"
   ]
  },
  {
   "cell_type": "code",
   "execution_count": null,
   "metadata": {
    "collapsed": false
   },
   "outputs": [],
   "source": [
    "# Now screen for values below certain thresholds in both temp and humidity\n",
    "hum_threshold=70 # can't be higher than this\n",
    "temp_threshold_f=75 # can't be higher than this\n",
    "temp_mask = merged_inner['temp_f']<temp_threshold_f\n",
    "hum_mask = merged_inner['relative_humidity']<hum_threshold\n",
    "good_condis_mask = (temp_mask) & (hum_mask)\n",
    "merged_inner['condi']=good_condis_mask"
   ]
  },
  {
   "cell_type": "code",
   "execution_count": null,
   "metadata": {
    "collapsed": false
   },
   "outputs": [],
   "source": [
    "fig, axs = plt.subplots(3, 1, sharex=True)\n",
    "fig.subplots_adjust(hspace=0)\n",
    "\n",
    "ax=axs[0]\n",
    "ax.plot(merged_inner['timestamp'],merged_inner['temp_f'],color='r')\n",
    "ax.set_ylabel(\"Temp (F)\")\n",
    "# now plot humidity on second axis\n",
    "ax_hum = axs[1]\n",
    "ax_hum.plot(merged_inner['timestamp'],merged_inner['relative_humidity'],color='g')\n",
    "ax_hum.set_ylabel('% rel. hum.')\n",
    "# now plot the condis\n",
    "ax_condi=axs[2]\n",
    "ax_condi.plot(merged_inner['timestamp'],merged_inner['condi'],color='b')\n",
    "ax_condi.set_ylabel(\"Condis\")\n",
    "# Rotate tick marks on x-axis\n",
    "_=plt.setp(ax_condi.get_xticklabels(), rotation=45)\n",
    "title=fig.suptitle(f\"Condis forecast\\nT<{temp_threshold_f} F, rel. hum. < {hum_threshold} % \")"
   ]
  },
  {
   "cell_type": "code",
   "execution_count": null,
   "metadata": {
    "collapsed": false
   },
   "outputs": [],
   "source": [
    "best_times = merged_inner['timestamp'][good_condis_mask]\n",
    "best_times"
   ]
  },
  {
   "cell_type": "markdown",
   "metadata": {},
   "source": [
    "First convert to local time so it will make it easier to compare with the graphical forecast:"
   ]
  },
  {
   "cell_type": "code",
   "execution_count": null,
   "metadata": {
    "collapsed": false
   },
   "outputs": [],
   "source": []
  },
  {
   "cell_type": "code",
   "execution_count": null,
   "metadata": {
    "collapsed": false
   },
   "outputs": [],
   "source": [
    "dtimes=merged_inner['timestamp']\n",
    "dtimes"
   ]
  },
  {
   "cell_type": "code",
   "execution_count": null,
   "metadata": {
    "collapsed": false
   },
   "outputs": [],
   "source": [
    "merged_inner['local_timestamp']=dtimes.map(lambda x: x-timedelta(hours=4))"
   ]
  },
  {
   "cell_type": "code",
   "execution_count": null,
   "metadata": {
    "collapsed": false
   },
   "outputs": [],
   "source": [
    "final_df = merged_inner[['local_timestamp','temp_f','relative_humidity']]\n",
    "final_df[21:30]"
   ]
  },
  {
   "cell_type": "code",
   "execution_count": null,
   "metadata": {
    "collapsed": true
   },
   "outputs": [],
   "source": [
    "fig=plt.figure()\n",
    "ax=fig.add_subplot(1,1,1)\n",
    "ax.plot(df['timestamp'],df['temp_f'])\n",
    "ax.set_xlabel(\"Date\")\n",
    "ax.set_ylabel(\"Temperature (F)\")\n",
    "# Rotate tick marks on x-axis\n",
    "_=plt.setp(ax.get_xticklabels(), rotation=45)"
   ]
  }
 ],
 "metadata": {
  "anaconda-cloud": {},
  "kernelspec": {
   "display_name": "weather",
   "language": "python",
   "name": "weather"
  },
  "language_info": {
   "codemirror_mode": {
    "name": "ipython",
    "version": 3
   },
   "file_extension": ".py",
   "mimetype": "text/x-python",
   "name": "python",
   "nbconvert_exporter": "python",
   "pygments_lexer": "ipython3",
   "version": "3.7.7"
  }
 },
 "nbformat": 4,
 "nbformat_minor": 1
}
