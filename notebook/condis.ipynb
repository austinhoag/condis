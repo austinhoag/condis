{
 "cells": [
  {
   "cell_type": "markdown",
   "metadata": {},
   "source": [
    "# Condis "
   ]
  },
  {
   "cell_type": "code",
   "execution_count": 1,
   "metadata": {
    "collapsed": false
   },
   "outputs": [],
   "source": [
    "import requests\n",
    "import numpy as np\n",
    "import pandas as pd\n",
    "from functools import reduce\n",
    "from datetime import datetime,timedelta\n",
    "import matplotlib.pyplot as plt\n",
    "%matplotlib inline"
   ]
  },
  {
   "cell_type": "code",
   "execution_count": 2,
   "metadata": {
    "collapsed": true
   },
   "outputs": [],
   "source": [
    "# Make GET request\n",
    "response = requests.get('https://api.weather.gov/gridpoints/VEF/111,97')"
   ]
  },
  {
   "cell_type": "code",
   "execution_count": 3,
   "metadata": {
    "collapsed": false
   },
   "outputs": [],
   "source": [
    "# Convert response to python dict\n",
    "j=response.json()"
   ]
  },
  {
   "cell_type": "code",
   "execution_count": 4,
   "metadata": {
    "collapsed": false
   },
   "outputs": [],
   "source": [
    "# Get all properties and then extract the ones I will use\n",
    "properties=j['properties']"
   ]
  },
  {
   "cell_type": "code",
   "execution_count": 5,
   "metadata": {
    "collapsed": false
   },
   "outputs": [],
   "source": [
    "temp_dicts=properties['temperature']\n",
    "hum_dicts=properties['relativeHumidity']\n",
    "precip_dicts=properties['probabilityOfPrecipitation']\n",
    "# May want to consider snow level as well since this may be relevant for certain areas"
   ]
  },
  {
   "cell_type": "code",
   "execution_count": 15,
   "metadata": {
    "collapsed": true
   },
   "outputs": [],
   "source": [
    "def calc_msr_duration(x):\n",
    "    duration_str = str(x).split('P')[-1]\n",
    "    if \"D\" in duration_str:\n",
    "        n_days = int(duration_str[0])\n",
    "        n_hours = int(duration_str.split(\"T\")[-1].split('H')[0])\n",
    "        n_hours += n_days*24\n",
    "    else:\n",
    "        n_hours = int(str(x).split('PT')[-1].split('H')[0])\n",
    "    return n_hours\n",
    "\n",
    "def init_temp_df():\n",
    "    temp_lists=temp_dicts['values']\n",
    "    df_temp=pd.DataFrame(temp_lists)\n",
    "    df_temp['temp_f']=df_temp['value']*9/5.+32\n",
    "    df_temp['timestamp']=pd.to_datetime(df_temp['validTime'].map(lambda x: str(x).split('+')[0]))\n",
    "    # set to local time from UTC (default)\n",
    "    df_temp['timestamp']-=timedelta(hours=4)\n",
    "    df_temp['msr_duration']=df_temp['validTime'].map(lambda x: calc_msr_duration(x))\n",
    "    df_temp.drop(['validTime','value'],axis=1,inplace=True)\n",
    "    df_temp = df_temp[['timestamp','msr_duration','temp_f']]\n",
    "    return df_temp\n",
    "\n",
    "def init_hum_df():\n",
    "    hum_lists=hum_dicts['values']\n",
    "    df_hum=pd.DataFrame(hum_lists)\n",
    "    df_hum['relativeHumidity'] = df_hum['value']\n",
    "    df_hum['timestamp']=pd.to_datetime(df_hum['validTime'].map(lambda x: str(x).split('+')[0]))\n",
    "    df_hum['timestamp']-=timedelta(hours=4)\n",
    "    df_hum['msr_duration']=df_hum['validTime'].map(lambda x: calc_msr_duration(x))\n",
    "    df_hum.drop(['validTime','value'],axis=1,inplace=True)\n",
    "    df_hum = df_hum[['timestamp','msr_duration','relativeHumidity']]\n",
    "    return df_hum\n",
    "\n",
    "def init_precip_df():\n",
    "    precip_lists=precip_dicts['values']\n",
    "    df_precip=pd.DataFrame(precip_lists)\n",
    "    df_precip['probabilityOfPrecipitation'] = df_precip['value']\n",
    "    df_precip['timestamp']=pd.to_datetime(df_precip['validTime'].map(lambda x: str(x).split('+')[0]))\n",
    "    df_precip['timestamp']-=timedelta(hours=4)\n",
    "    df_precip['msr_duration']=df_precip['validTime'].map(lambda x: calc_msr_duration(x))\n",
    "    df_precip.drop(['validTime','value'],axis=1,inplace=True)\n",
    "    df_precip = df_precip[['timestamp','msr_duration','probabilityOfPrecipitation']]\n",
    "    return df_precip\n",
    "\n",
    "def expand_dataframe(df):\n",
    "    \"\"\"For any rows where the duration of the measurement\n",
    "    is over more than one hour, make a new row duplicate row \n",
    "    (but with incremented timestamp) for each hour in the duration\"\"\"\n",
    "    dfc = df.copy() # makes a copy so the original is not affected\n",
    "    mask = dfc['msr_duration'] > 1\n",
    "    n_rows_multiple_durations = len(dfc[mask]) # variable to store the number of rows where the measurement stands for multiple hours\n",
    "    print(f\"There are originally {n_rows_multiple_durations} multiple rows\")\n",
    "    counter = 0\n",
    "    while n_rows_multiple_durations > 0:\n",
    "        # Make a new dataframe that is just the rows with multiples\n",
    "        new_dfc = dfc.loc[mask].copy()\n",
    "        # set all of the masked rows in the original dataframe to 1 since we will combine back with this dfc in the end\n",
    "        dfc['msr_duration'][mask]=1\n",
    "        # In this new dataframe, increment the timestamp by 1 hour and decrement the msr_duration by 1 hour\n",
    "        new_dfc['timestamp'] += timedelta(hours=1)\n",
    "        new_dfc['msr_duration']-=1\n",
    "        # concatenate this new dfc that we have transformed back with the original, and overwrite the original\n",
    "        dfc = pd.concat([dfc,new_dfc])\n",
    "        # calculate the new mask of multiples on this concatenated array\n",
    "        mask = dfc['msr_duration'] > 1\n",
    "        n_rows_multiple_durations = len(dfc[mask])\n",
    "        counter+=1\n",
    "    # Finally sort by timestamp so the rows fall back in order\n",
    "    dfc = dfc.sort_values('timestamp')\n",
    "    # set the index to a proper increasing numerical index without duplicates\n",
    "    dfc.index = list(range(len(dfc)))\n",
    "    dfc.drop(['msr_duration'],axis=1,inplace=True)\n",
    "    return dfc"
   ]
  },
  {
   "cell_type": "code",
   "execution_count": 16,
   "metadata": {
    "collapsed": false
   },
   "outputs": [],
   "source": [
    "# initialize all dataframes\n",
    "df_temp = init_temp_df()\n",
    "df_hum = init_hum_df()\n",
    "df_precip = init_precip_df()"
   ]
  },
  {
   "cell_type": "code",
   "execution_count": 17,
   "metadata": {
    "collapsed": false
   },
   "outputs": [
    {
     "name": "stdout",
     "output_type": "stream",
     "text": [
      "196\n",
      "196\n",
      "198\n"
     ]
    }
   ],
   "source": [
    "print(df_temp['msr_duration'].sum())\n",
    "print(df_hum['msr_duration'].sum())\n",
    "print(df_precip['msr_duration'].sum())"
   ]
  },
  {
   "cell_type": "code",
   "execution_count": null,
   "metadata": {
    "collapsed": true
   },
   "outputs": [],
   "source": [
    "# So it looks like at least sometimes the precipitation prediction has one less timestamp.\n",
    "# After checking it out it seems like it is always at the end\n",
    "# So when we merge the last value will be clipped off."
   ]
  },
  {
   "cell_type": "code",
   "execution_count": 18,
   "metadata": {
    "collapsed": false
   },
   "outputs": [
    {
     "name": "stdout",
     "output_type": "stream",
     "text": [
      "There are originally 16 multiple rows\n",
      "There are originally 38 multiple rows\n",
      "There are originally 3 multiple rows\n"
     ]
    },
    {
     "name": "stderr",
     "output_type": "stream",
     "text": [
      "/Users/athair/.local/lib/python3.7/site-packages/ipykernel_launcher.py:58: SettingWithCopyWarning: \n",
      "A value is trying to be set on a copy of a slice from a DataFrame\n",
      "\n",
      "See the caveats in the documentation: https://pandas.pydata.org/pandas-docs/stable/user_guide/indexing.html#returning-a-view-versus-a-copy\n"
     ]
    }
   ],
   "source": [
    "# Expand all dataframes\n",
    "df_temp_expanded = expand_dataframe(df_temp)\n",
    "df_hum_expanded = expand_dataframe(df_hum)\n",
    "df_precip_expanded = expand_dataframe(df_precip)"
   ]
  },
  {
   "cell_type": "code",
   "execution_count": 19,
   "metadata": {
    "collapsed": false
   },
   "outputs": [
    {
     "data": {
      "text/html": [
       "<div>\n",
       "<style scoped>\n",
       "    .dataframe tbody tr th:only-of-type {\n",
       "        vertical-align: middle;\n",
       "    }\n",
       "\n",
       "    .dataframe tbody tr th {\n",
       "        vertical-align: top;\n",
       "    }\n",
       "\n",
       "    .dataframe thead th {\n",
       "        text-align: right;\n",
       "    }\n",
       "</style>\n",
       "<table border=\"1\" class=\"dataframe\">\n",
       "  <thead>\n",
       "    <tr style=\"text-align: right;\">\n",
       "      <th></th>\n",
       "      <th>timestamp</th>\n",
       "      <th>temp_f</th>\n",
       "      <th>relativeHumidity</th>\n",
       "      <th>probabilityOfPrecipitation</th>\n",
       "    </tr>\n",
       "  </thead>\n",
       "  <tbody>\n",
       "    <tr>\n",
       "      <th>0</th>\n",
       "      <td>2020-07-03 05:00:00</td>\n",
       "      <td>72.0</td>\n",
       "      <td>19</td>\n",
       "      <td>0</td>\n",
       "    </tr>\n",
       "    <tr>\n",
       "      <th>1</th>\n",
       "      <td>2020-07-03 06:00:00</td>\n",
       "      <td>70.0</td>\n",
       "      <td>21</td>\n",
       "      <td>0</td>\n",
       "    </tr>\n",
       "    <tr>\n",
       "      <th>2</th>\n",
       "      <td>2020-07-03 07:00:00</td>\n",
       "      <td>70.0</td>\n",
       "      <td>22</td>\n",
       "      <td>0</td>\n",
       "    </tr>\n",
       "    <tr>\n",
       "      <th>3</th>\n",
       "      <td>2020-07-03 08:00:00</td>\n",
       "      <td>67.0</td>\n",
       "      <td>25</td>\n",
       "      <td>0</td>\n",
       "    </tr>\n",
       "    <tr>\n",
       "      <th>4</th>\n",
       "      <td>2020-07-03 09:00:00</td>\n",
       "      <td>66.0</td>\n",
       "      <td>27</td>\n",
       "      <td>0</td>\n",
       "    </tr>\n",
       "    <tr>\n",
       "      <th>...</th>\n",
       "      <td>...</td>\n",
       "      <td>...</td>\n",
       "      <td>...</td>\n",
       "      <td>...</td>\n",
       "    </tr>\n",
       "    <tr>\n",
       "      <th>191</th>\n",
       "      <td>2020-07-11 04:00:00</td>\n",
       "      <td>74.0</td>\n",
       "      <td>15</td>\n",
       "      <td>0</td>\n",
       "    </tr>\n",
       "    <tr>\n",
       "      <th>192</th>\n",
       "      <td>2020-07-11 05:00:00</td>\n",
       "      <td>72.0</td>\n",
       "      <td>17</td>\n",
       "      <td>0</td>\n",
       "    </tr>\n",
       "    <tr>\n",
       "      <th>193</th>\n",
       "      <td>2020-07-11 06:00:00</td>\n",
       "      <td>71.0</td>\n",
       "      <td>18</td>\n",
       "      <td>0</td>\n",
       "    </tr>\n",
       "    <tr>\n",
       "      <th>194</th>\n",
       "      <td>2020-07-11 07:00:00</td>\n",
       "      <td>71.0</td>\n",
       "      <td>18</td>\n",
       "      <td>0</td>\n",
       "    </tr>\n",
       "    <tr>\n",
       "      <th>195</th>\n",
       "      <td>2020-07-11 08:00:00</td>\n",
       "      <td>72.0</td>\n",
       "      <td>18</td>\n",
       "      <td>0</td>\n",
       "    </tr>\n",
       "  </tbody>\n",
       "</table>\n",
       "<p>196 rows × 4 columns</p>\n",
       "</div>"
      ],
      "text/plain": [
       "              timestamp  temp_f  relativeHumidity  probabilityOfPrecipitation\n",
       "0   2020-07-03 05:00:00    72.0                19                           0\n",
       "1   2020-07-03 06:00:00    70.0                21                           0\n",
       "2   2020-07-03 07:00:00    70.0                22                           0\n",
       "3   2020-07-03 08:00:00    67.0                25                           0\n",
       "4   2020-07-03 09:00:00    66.0                27                           0\n",
       "..                  ...     ...               ...                         ...\n",
       "191 2020-07-11 04:00:00    74.0                15                           0\n",
       "192 2020-07-11 05:00:00    72.0                17                           0\n",
       "193 2020-07-11 06:00:00    71.0                18                           0\n",
       "194 2020-07-11 07:00:00    71.0                18                           0\n",
       "195 2020-07-11 08:00:00    72.0                18                           0\n",
       "\n",
       "[196 rows x 4 columns]"
      ]
     },
     "execution_count": 19,
     "metadata": {},
     "output_type": "execute_result"
    }
   ],
   "source": [
    "# Merge all three \n",
    "dfs = [df_temp_expanded,df_hum_expanded,df_precip_expanded]\n",
    "df_final = reduce(lambda left,right: pd.merge(left,right,on='timestamp'), dfs)\n",
    "\n",
    "# df_final = df_temp_expanded.copy()\n",
    "# df_final['relativeHumidity'] = df_hum_expanded['relativeHumidity']\n",
    "# df_final['probabilityOfPrecipitation'] = df_precip_expanded['probabilityOfPrecipitation']\n",
    "df_final"
   ]
  },
  {
   "cell_type": "code",
   "execution_count": 20,
   "metadata": {
    "collapsed": false
   },
   "outputs": [],
   "source": [
    "# Now screen for values in certain ranges in both temp and humidity\n",
    "hum_min=0\n",
    "hum_max=85\n",
    "temp_min=40 # fahrenheit \n",
    "temp_max=75 \n",
    "precip_chance_max = 30\n",
    "temp_mask = (df_final['temp_f'] > temp_min) & (df_final['temp_f']<temp_max)\n",
    "hum_mask = (df_final['relativeHumidity'] > hum_min) & (df_final['relativeHumidity'] < hum_max) \n",
    "precip_mask = df_final['probabilityOfPrecipitation'] < precip_chance_max\n",
    "good_condis_mask = (temp_mask) & (hum_mask) & (precip_mask)\n",
    "df_final['condi']=good_condis_mask"
   ]
  },
  {
   "cell_type": "code",
   "execution_count": 21,
   "metadata": {
    "collapsed": false
   },
   "outputs": [
    {
     "data": {
      "image/png": "[encoded data removed]",
      "text/plain": [
       "<Figure size 432x288 with 4 Axes>"
      ]
     },
     "metadata": {
      "needs_background": "light"
     },
     "output_type": "display_data"
    }
   ],
   "source": [
    "fig, axs = plt.subplots(4, 1, sharex=True)\n",
    "fig.subplots_adjust(hspace=0)\n",
    "\n",
    "ax=axs[0]\n",
    "ax.plot(df_final['timestamp'],df_final['temp_f'],color='r')\n",
    "ax.set_ylabel(\"Temp (F)\")\n",
    "# now plot humidity on second axis\n",
    "ax_hum = axs[1]\n",
    "ax_hum.plot(df_final['timestamp'],df_final['relativeHumidity'],color='g')\n",
    "ax_hum.set_ylabel('% rel. hum.')\n",
    "# now plot the chance of precip\n",
    "ax_precip = axs[2]\n",
    "ax_precip.plot(df_final['timestamp'],df_final['probabilityOfPrecipitation'],color='magenta')\n",
    "ax_precip.set_ylabel('% chance precip.')\n",
    "# now plot the condis\n",
    "ax_condi=axs[3]\n",
    "ax_condi.plot(df_final['timestamp'],df_final['condi'],color='b')\n",
    "ax_condi.set_ylabel(\"Condis\")\n",
    "# Rotate tick marks on x-axis\n",
    "_=plt.setp(ax_condi.get_xticklabels(), rotation=45)\n",
    "title=fig.suptitle(f\"Condis forecast \")"
   ]
  },
  {
   "cell_type": "code",
   "execution_count": 22,
   "metadata": {
    "collapsed": false
   },
   "outputs": [
    {
     "data": {
      "text/plain": [
       "0     2020-07-03 05:00:00\n",
       "1     2020-07-03 06:00:00\n",
       "2     2020-07-03 07:00:00\n",
       "3     2020-07-03 08:00:00\n",
       "4     2020-07-03 09:00:00\n",
       "22    2020-07-04 03:00:00\n",
       "23    2020-07-04 04:00:00\n",
       "24    2020-07-04 05:00:00\n",
       "25    2020-07-04 06:00:00\n",
       "26    2020-07-04 07:00:00\n",
       "27    2020-07-04 08:00:00\n",
       "28    2020-07-04 09:00:00\n",
       "48    2020-07-05 05:00:00\n",
       "49    2020-07-05 06:00:00\n",
       "50    2020-07-05 07:00:00\n",
       "51    2020-07-05 08:00:00\n",
       "52    2020-07-05 09:00:00\n",
       "73    2020-07-06 06:00:00\n",
       "74    2020-07-06 07:00:00\n",
       "75    2020-07-06 08:00:00\n",
       "76    2020-07-06 09:00:00\n",
       "96    2020-07-07 05:00:00\n",
       "97    2020-07-07 06:00:00\n",
       "98    2020-07-07 07:00:00\n",
       "99    2020-07-07 08:00:00\n",
       "100   2020-07-07 09:00:00\n",
       "119   2020-07-08 04:00:00\n",
       "120   2020-07-08 05:00:00\n",
       "121   2020-07-08 06:00:00\n",
       "122   2020-07-08 07:00:00\n",
       "123   2020-07-08 08:00:00\n",
       "124   2020-07-08 09:00:00\n",
       "143   2020-07-09 04:00:00\n",
       "144   2020-07-09 05:00:00\n",
       "145   2020-07-09 06:00:00\n",
       "146   2020-07-09 07:00:00\n",
       "147   2020-07-09 08:00:00\n",
       "148   2020-07-09 09:00:00\n",
       "167   2020-07-10 04:00:00\n",
       "168   2020-07-10 05:00:00\n",
       "169   2020-07-10 06:00:00\n",
       "170   2020-07-10 07:00:00\n",
       "171   2020-07-10 08:00:00\n",
       "172   2020-07-10 09:00:00\n",
       "191   2020-07-11 04:00:00\n",
       "192   2020-07-11 05:00:00\n",
       "193   2020-07-11 06:00:00\n",
       "194   2020-07-11 07:00:00\n",
       "195   2020-07-11 08:00:00\n",
       "Name: timestamp, dtype: datetime64[ns]"
      ]
     },
     "execution_count": 22,
     "metadata": {},
     "output_type": "execute_result"
    }
   ],
   "source": [
    "best_times = df_final['timestamp'][good_condis_mask]\n",
    "best_times"
   ]
  },
  {
   "cell_type": "code",
   "execution_count": 23,
   "metadata": {
    "collapsed": false
   },
   "outputs": [
    {
     "data": {
      "text/html": [
       "<div>\n",
       "<style scoped>\n",
       "    .dataframe tbody tr th:only-of-type {\n",
       "        vertical-align: middle;\n",
       "    }\n",
       "\n",
       "    .dataframe tbody tr th {\n",
       "        vertical-align: top;\n",
       "    }\n",
       "\n",
       "    .dataframe thead th {\n",
       "        text-align: right;\n",
       "    }\n",
       "</style>\n",
       "<table border=\"1\" class=\"dataframe\">\n",
       "  <thead>\n",
       "    <tr style=\"text-align: right;\">\n",
       "      <th></th>\n",
       "      <th>timestamp</th>\n",
       "      <th>temp_f</th>\n",
       "      <th>relativeHumidity</th>\n",
       "      <th>probabilityOfPrecipitation</th>\n",
       "    </tr>\n",
       "  </thead>\n",
       "  <tbody>\n",
       "    <tr>\n",
       "      <th>0</th>\n",
       "      <td>2020-07-03 05:00:00</td>\n",
       "      <td>72.0</td>\n",
       "      <td>19</td>\n",
       "      <td>0</td>\n",
       "    </tr>\n",
       "    <tr>\n",
       "      <th>1</th>\n",
       "      <td>2020-07-03 06:00:00</td>\n",
       "      <td>70.0</td>\n",
       "      <td>21</td>\n",
       "      <td>0</td>\n",
       "    </tr>\n",
       "    <tr>\n",
       "      <th>2</th>\n",
       "      <td>2020-07-03 07:00:00</td>\n",
       "      <td>70.0</td>\n",
       "      <td>22</td>\n",
       "      <td>0</td>\n",
       "    </tr>\n",
       "    <tr>\n",
       "      <th>3</th>\n",
       "      <td>2020-07-03 08:00:00</td>\n",
       "      <td>67.0</td>\n",
       "      <td>25</td>\n",
       "      <td>0</td>\n",
       "    </tr>\n",
       "    <tr>\n",
       "      <th>4</th>\n",
       "      <td>2020-07-03 09:00:00</td>\n",
       "      <td>66.0</td>\n",
       "      <td>27</td>\n",
       "      <td>0</td>\n",
       "    </tr>\n",
       "    <tr>\n",
       "      <th>22</th>\n",
       "      <td>2020-07-04 03:00:00</td>\n",
       "      <td>74.0</td>\n",
       "      <td>19</td>\n",
       "      <td>0</td>\n",
       "    </tr>\n",
       "    <tr>\n",
       "      <th>23</th>\n",
       "      <td>2020-07-04 04:00:00</td>\n",
       "      <td>73.0</td>\n",
       "      <td>20</td>\n",
       "      <td>0</td>\n",
       "    </tr>\n",
       "    <tr>\n",
       "      <th>24</th>\n",
       "      <td>2020-07-04 05:00:00</td>\n",
       "      <td>72.0</td>\n",
       "      <td>21</td>\n",
       "      <td>0</td>\n",
       "    </tr>\n",
       "    <tr>\n",
       "      <th>25</th>\n",
       "      <td>2020-07-04 06:00:00</td>\n",
       "      <td>70.0</td>\n",
       "      <td>22</td>\n",
       "      <td>0</td>\n",
       "    </tr>\n",
       "    <tr>\n",
       "      <th>26</th>\n",
       "      <td>2020-07-04 07:00:00</td>\n",
       "      <td>70.0</td>\n",
       "      <td>23</td>\n",
       "      <td>0</td>\n",
       "    </tr>\n",
       "    <tr>\n",
       "      <th>27</th>\n",
       "      <td>2020-07-04 08:00:00</td>\n",
       "      <td>68.0</td>\n",
       "      <td>25</td>\n",
       "      <td>0</td>\n",
       "    </tr>\n",
       "    <tr>\n",
       "      <th>28</th>\n",
       "      <td>2020-07-04 09:00:00</td>\n",
       "      <td>71.0</td>\n",
       "      <td>23</td>\n",
       "      <td>0</td>\n",
       "    </tr>\n",
       "    <tr>\n",
       "      <th>48</th>\n",
       "      <td>2020-07-05 05:00:00</td>\n",
       "      <td>74.0</td>\n",
       "      <td>14</td>\n",
       "      <td>0</td>\n",
       "    </tr>\n",
       "    <tr>\n",
       "      <th>49</th>\n",
       "      <td>2020-07-05 06:00:00</td>\n",
       "      <td>71.0</td>\n",
       "      <td>16</td>\n",
       "      <td>0</td>\n",
       "    </tr>\n",
       "    <tr>\n",
       "      <th>50</th>\n",
       "      <td>2020-07-05 07:00:00</td>\n",
       "      <td>69.0</td>\n",
       "      <td>17</td>\n",
       "      <td>0</td>\n",
       "    </tr>\n",
       "    <tr>\n",
       "      <th>51</th>\n",
       "      <td>2020-07-05 08:00:00</td>\n",
       "      <td>70.0</td>\n",
       "      <td>16</td>\n",
       "      <td>0</td>\n",
       "    </tr>\n",
       "    <tr>\n",
       "      <th>52</th>\n",
       "      <td>2020-07-05 09:00:00</td>\n",
       "      <td>74.0</td>\n",
       "      <td>15</td>\n",
       "      <td>0</td>\n",
       "    </tr>\n",
       "    <tr>\n",
       "      <th>73</th>\n",
       "      <td>2020-07-06 06:00:00</td>\n",
       "      <td>72.0</td>\n",
       "      <td>12</td>\n",
       "      <td>0</td>\n",
       "    </tr>\n",
       "    <tr>\n",
       "      <th>74</th>\n",
       "      <td>2020-07-06 07:00:00</td>\n",
       "      <td>69.0</td>\n",
       "      <td>14</td>\n",
       "      <td>0</td>\n",
       "    </tr>\n",
       "    <tr>\n",
       "      <th>75</th>\n",
       "      <td>2020-07-06 08:00:00</td>\n",
       "      <td>69.0</td>\n",
       "      <td>14</td>\n",
       "      <td>0</td>\n",
       "    </tr>\n",
       "    <tr>\n",
       "      <th>76</th>\n",
       "      <td>2020-07-06 09:00:00</td>\n",
       "      <td>74.0</td>\n",
       "      <td>12</td>\n",
       "      <td>0</td>\n",
       "    </tr>\n",
       "    <tr>\n",
       "      <th>96</th>\n",
       "      <td>2020-07-07 05:00:00</td>\n",
       "      <td>74.0</td>\n",
       "      <td>12</td>\n",
       "      <td>0</td>\n",
       "    </tr>\n",
       "    <tr>\n",
       "      <th>97</th>\n",
       "      <td>2020-07-07 06:00:00</td>\n",
       "      <td>71.0</td>\n",
       "      <td>14</td>\n",
       "      <td>0</td>\n",
       "    </tr>\n",
       "    <tr>\n",
       "      <th>98</th>\n",
       "      <td>2020-07-07 07:00:00</td>\n",
       "      <td>68.0</td>\n",
       "      <td>16</td>\n",
       "      <td>0</td>\n",
       "    </tr>\n",
       "    <tr>\n",
       "      <th>99</th>\n",
       "      <td>2020-07-07 08:00:00</td>\n",
       "      <td>68.0</td>\n",
       "      <td>17</td>\n",
       "      <td>0</td>\n",
       "    </tr>\n",
       "    <tr>\n",
       "      <th>100</th>\n",
       "      <td>2020-07-07 09:00:00</td>\n",
       "      <td>72.0</td>\n",
       "      <td>15</td>\n",
       "      <td>0</td>\n",
       "    </tr>\n",
       "    <tr>\n",
       "      <th>119</th>\n",
       "      <td>2020-07-08 04:00:00</td>\n",
       "      <td>74.0</td>\n",
       "      <td>13</td>\n",
       "      <td>0</td>\n",
       "    </tr>\n",
       "    <tr>\n",
       "      <th>120</th>\n",
       "      <td>2020-07-08 05:00:00</td>\n",
       "      <td>72.0</td>\n",
       "      <td>15</td>\n",
       "      <td>0</td>\n",
       "    </tr>\n",
       "    <tr>\n",
       "      <th>121</th>\n",
       "      <td>2020-07-08 06:00:00</td>\n",
       "      <td>69.0</td>\n",
       "      <td>17</td>\n",
       "      <td>0</td>\n",
       "    </tr>\n",
       "    <tr>\n",
       "      <th>122</th>\n",
       "      <td>2020-07-08 07:00:00</td>\n",
       "      <td>66.0</td>\n",
       "      <td>19</td>\n",
       "      <td>0</td>\n",
       "    </tr>\n",
       "    <tr>\n",
       "      <th>123</th>\n",
       "      <td>2020-07-08 08:00:00</td>\n",
       "      <td>66.0</td>\n",
       "      <td>20</td>\n",
       "      <td>0</td>\n",
       "    </tr>\n",
       "    <tr>\n",
       "      <th>124</th>\n",
       "      <td>2020-07-08 09:00:00</td>\n",
       "      <td>70.0</td>\n",
       "      <td>18</td>\n",
       "      <td>0</td>\n",
       "    </tr>\n",
       "    <tr>\n",
       "      <th>143</th>\n",
       "      <td>2020-07-09 04:00:00</td>\n",
       "      <td>74.0</td>\n",
       "      <td>14</td>\n",
       "      <td>0</td>\n",
       "    </tr>\n",
       "    <tr>\n",
       "      <th>144</th>\n",
       "      <td>2020-07-09 05:00:00</td>\n",
       "      <td>72.0</td>\n",
       "      <td>15</td>\n",
       "      <td>0</td>\n",
       "    </tr>\n",
       "    <tr>\n",
       "      <th>145</th>\n",
       "      <td>2020-07-09 06:00:00</td>\n",
       "      <td>69.0</td>\n",
       "      <td>17</td>\n",
       "      <td>0</td>\n",
       "    </tr>\n",
       "    <tr>\n",
       "      <th>146</th>\n",
       "      <td>2020-07-09 07:00:00</td>\n",
       "      <td>66.0</td>\n",
       "      <td>19</td>\n",
       "      <td>0</td>\n",
       "    </tr>\n",
       "    <tr>\n",
       "      <th>147</th>\n",
       "      <td>2020-07-09 08:00:00</td>\n",
       "      <td>66.0</td>\n",
       "      <td>20</td>\n",
       "      <td>0</td>\n",
       "    </tr>\n",
       "    <tr>\n",
       "      <th>148</th>\n",
       "      <td>2020-07-09 09:00:00</td>\n",
       "      <td>70.0</td>\n",
       "      <td>18</td>\n",
       "      <td>0</td>\n",
       "    </tr>\n",
       "    <tr>\n",
       "      <th>167</th>\n",
       "      <td>2020-07-10 04:00:00</td>\n",
       "      <td>74.0</td>\n",
       "      <td>13</td>\n",
       "      <td>0</td>\n",
       "    </tr>\n",
       "    <tr>\n",
       "      <th>168</th>\n",
       "      <td>2020-07-10 05:00:00</td>\n",
       "      <td>72.0</td>\n",
       "      <td>15</td>\n",
       "      <td>0</td>\n",
       "    </tr>\n",
       "    <tr>\n",
       "      <th>169</th>\n",
       "      <td>2020-07-10 06:00:00</td>\n",
       "      <td>69.0</td>\n",
       "      <td>17</td>\n",
       "      <td>0</td>\n",
       "    </tr>\n",
       "    <tr>\n",
       "      <th>170</th>\n",
       "      <td>2020-07-10 07:00:00</td>\n",
       "      <td>67.0</td>\n",
       "      <td>19</td>\n",
       "      <td>0</td>\n",
       "    </tr>\n",
       "    <tr>\n",
       "      <th>171</th>\n",
       "      <td>2020-07-10 08:00:00</td>\n",
       "      <td>68.0</td>\n",
       "      <td>19</td>\n",
       "      <td>0</td>\n",
       "    </tr>\n",
       "    <tr>\n",
       "      <th>172</th>\n",
       "      <td>2020-07-10 09:00:00</td>\n",
       "      <td>72.0</td>\n",
       "      <td>17</td>\n",
       "      <td>0</td>\n",
       "    </tr>\n",
       "    <tr>\n",
       "      <th>191</th>\n",
       "      <td>2020-07-11 04:00:00</td>\n",
       "      <td>74.0</td>\n",
       "      <td>15</td>\n",
       "      <td>0</td>\n",
       "    </tr>\n",
       "    <tr>\n",
       "      <th>192</th>\n",
       "      <td>2020-07-11 05:00:00</td>\n",
       "      <td>72.0</td>\n",
       "      <td>17</td>\n",
       "      <td>0</td>\n",
       "    </tr>\n",
       "    <tr>\n",
       "      <th>193</th>\n",
       "      <td>2020-07-11 06:00:00</td>\n",
       "      <td>71.0</td>\n",
       "      <td>18</td>\n",
       "      <td>0</td>\n",
       "    </tr>\n",
       "    <tr>\n",
       "      <th>194</th>\n",
       "      <td>2020-07-11 07:00:00</td>\n",
       "      <td>71.0</td>\n",
       "      <td>18</td>\n",
       "      <td>0</td>\n",
       "    </tr>\n",
       "    <tr>\n",
       "      <th>195</th>\n",
       "      <td>2020-07-11 08:00:00</td>\n",
       "      <td>72.0</td>\n",
       "      <td>18</td>\n",
       "      <td>0</td>\n",
       "    </tr>\n",
       "  </tbody>\n",
       "</table>\n",
       "</div>"
      ],
      "text/plain": [
       "              timestamp  temp_f  relativeHumidity  probabilityOfPrecipitation\n",
       "0   2020-07-03 05:00:00    72.0                19                           0\n",
       "1   2020-07-03 06:00:00    70.0                21                           0\n",
       "2   2020-07-03 07:00:00    70.0                22                           0\n",
       "3   2020-07-03 08:00:00    67.0                25                           0\n",
       "4   2020-07-03 09:00:00    66.0                27                           0\n",
       "22  2020-07-04 03:00:00    74.0                19                           0\n",
       "23  2020-07-04 04:00:00    73.0                20                           0\n",
       "24  2020-07-04 05:00:00    72.0                21                           0\n",
       "25  2020-07-04 06:00:00    70.0                22                           0\n",
       "26  2020-07-04 07:00:00    70.0                23                           0\n",
       "27  2020-07-04 08:00:00    68.0                25                           0\n",
       "28  2020-07-04 09:00:00    71.0                23                           0\n",
       "48  2020-07-05 05:00:00    74.0                14                           0\n",
       "49  2020-07-05 06:00:00    71.0                16                           0\n",
       "50  2020-07-05 07:00:00    69.0                17                           0\n",
       "51  2020-07-05 08:00:00    70.0                16                           0\n",
       "52  2020-07-05 09:00:00    74.0                15                           0\n",
       "73  2020-07-06 06:00:00    72.0                12                           0\n",
       "74  2020-07-06 07:00:00    69.0                14                           0\n",
       "75  2020-07-06 08:00:00    69.0                14                           0\n",
       "76  2020-07-06 09:00:00    74.0                12                           0\n",
       "96  2020-07-07 05:00:00    74.0                12                           0\n",
       "97  2020-07-07 06:00:00    71.0                14                           0\n",
       "98  2020-07-07 07:00:00    68.0                16                           0\n",
       "99  2020-07-07 08:00:00    68.0                17                           0\n",
       "100 2020-07-07 09:00:00    72.0                15                           0\n",
       "119 2020-07-08 04:00:00    74.0                13                           0\n",
       "120 2020-07-08 05:00:00    72.0                15                           0\n",
       "121 2020-07-08 06:00:00    69.0                17                           0\n",
       "122 2020-07-08 07:00:00    66.0                19                           0\n",
       "123 2020-07-08 08:00:00    66.0                20                           0\n",
       "124 2020-07-08 09:00:00    70.0                18                           0\n",
       "143 2020-07-09 04:00:00    74.0                14                           0\n",
       "144 2020-07-09 05:00:00    72.0                15                           0\n",
       "145 2020-07-09 06:00:00    69.0                17                           0\n",
       "146 2020-07-09 07:00:00    66.0                19                           0\n",
       "147 2020-07-09 08:00:00    66.0                20                           0\n",
       "148 2020-07-09 09:00:00    70.0                18                           0\n",
       "167 2020-07-10 04:00:00    74.0                13                           0\n",
       "168 2020-07-10 05:00:00    72.0                15                           0\n",
       "169 2020-07-10 06:00:00    69.0                17                           0\n",
       "170 2020-07-10 07:00:00    67.0                19                           0\n",
       "171 2020-07-10 08:00:00    68.0                19                           0\n",
       "172 2020-07-10 09:00:00    72.0                17                           0\n",
       "191 2020-07-11 04:00:00    74.0                15                           0\n",
       "192 2020-07-11 05:00:00    72.0                17                           0\n",
       "193 2020-07-11 06:00:00    71.0                18                           0\n",
       "194 2020-07-11 07:00:00    71.0                18                           0\n",
       "195 2020-07-11 08:00:00    72.0                18                           0"
      ]
     },
     "execution_count": 23,
     "metadata": {},
     "output_type": "execute_result"
    }
   ],
   "source": [
    "df_good_condis=df_final[['timestamp','temp_f','relativeHumidity','probabilityOfPrecipitation']][good_condis_mask]\n",
    "df_good_condis"
   ]
  },
  {
   "cell_type": "code",
   "execution_count": null,
   "metadata": {
    "collapsed": true
   },
   "outputs": [],
   "source": [
    "# Given this information how to display it?\n",
    "# One option is table text format, e.g. \n",
    "# Wednesday, July 1 from 2:00 PM to 5:00 PM\n",
    "# Thursday, July 7 from 7:00 AM to 11:00 AM\n",
    "\n",
    "# Let's see how to do that"
   ]
  },
  {
   "cell_type": "code",
   "execution_count": 75,
   "metadata": {
    "collapsed": false
   },
   "outputs": [],
   "source": [
    "def splitme_zip(a,d):\n",
    "    \"\"\" a: numpy array\n",
    "        d: minimum gap between elements\n",
    "    \"\"\"\n",
    "    m = np.concatenate(([True],a[1:] > a[:-1] + d,[True]))\n",
    "    idx = np.flatnonzero(m)\n",
    "    l = a.tolist()\n",
    "    return [l[i:j] for i,j in zip(idx[:-1],idx[1:])]"
   ]
  },
  {
   "cell_type": "code",
   "execution_count": 78,
   "metadata": {
    "collapsed": true
   },
   "outputs": [],
   "source": [
    "a = np.array([1,2,3,5,7,10,13,16,20])\n",
    "d=1"
   ]
  },
  {
   "cell_type": "code",
   "execution_count": 79,
   "metadata": {
    "collapsed": false
   },
   "outputs": [
    {
     "data": {
      "text/plain": [
       "[[1, 2, 3], [5], [7], [10], [13], [16], [20]]"
      ]
     },
     "execution_count": 79,
     "metadata": {},
     "output_type": "execute_result"
    }
   ],
   "source": [
    "splitme_zip(a,d)"
   ]
  },
  {
   "cell_type": "code",
   "execution_count": 80,
   "metadata": {
    "collapsed": false
   },
   "outputs": [
    {
     "name": "stdout",
     "output_type": "stream",
     "text": [
      "CPU times: user 111 µs, sys: 45 µs, total: 156 µs\n",
      "Wall time: 140 µs\n"
     ]
    },
    {
     "data": {
      "text/plain": [
       "[[1, 2, 3], [5], [7], [10], [13], [16], [20]]"
      ]
     },
     "execution_count": 80,
     "metadata": {},
     "output_type": "execute_result"
    }
   ],
   "source": [
    "%%time \n",
    "splitme_zip(a,d)"
   ]
  },
  {
   "cell_type": "code",
   "execution_count": 82,
   "metadata": {
    "collapsed": false
   },
   "outputs": [
    {
     "data": {
      "text/plain": [
       "Int64Index([  0,   1,   2,   3,   4,   5,   6,   7,   8,   9,\n",
       "            ...\n",
       "            171, 172, 173, 174, 175, 176, 177, 178, 179, 180],\n",
       "           dtype='int64', length=181)"
      ]
     },
     "execution_count": 82,
     "metadata": {},
     "output_type": "execute_result"
    }
   ],
   "source": [
    "df_final.index"
   ]
  },
  {
   "cell_type": "code",
   "execution_count": 85,
   "metadata": {
    "collapsed": false
   },
   "outputs": [
    {
     "data": {
      "text/plain": [
       "array([  0,  18,  24,  41,  42,  47,  48,  49,  64,  65,  66,  87,  88,\n",
       "        89,  90, 136, 137, 138, 139, 145, 161, 162, 163, 164, 169])"
      ]
     },
     "execution_count": 85,
     "metadata": {},
     "output_type": "execute_result"
    }
   ],
   "source": [
    "np.array(df_good_condis.index)"
   ]
  },
  {
   "cell_type": "code",
   "execution_count": 87,
   "metadata": {
    "collapsed": false
   },
   "outputs": [],
   "source": [
    "groups=splitme_zip(np.array(df_good_condis.index),d=1)"
   ]
  },
  {
   "cell_type": "code",
   "execution_count": 127,
   "metadata": {
    "collapsed": true
   },
   "outputs": [],
   "source": [
    "time_format = '%-I %p'"
   ]
  },
  {
   "cell_type": "code",
   "execution_count": 128,
   "metadata": {
    "collapsed": false
   },
   "outputs": [
    {
     "name": "stdout",
     "output_type": "stream",
     "text": [
      "2020-06-27 at 7 AM\n",
      "\n",
      "2020-06-28 at 1 AM\n",
      "\n",
      "2020-06-28 at 7 AM\n",
      "\n",
      "2020-06-29, from 12 AM to 1 AM \n",
      "\n",
      "2020-06-29, from 6 AM to 8 AM \n",
      "\n",
      "From 11 PM on 2020-06-29 to 1 AM on 2020-06-30 \n",
      "\n",
      "From 10 PM on 2020-06-30 to 1 AM on 2020-07-01 \n",
      "\n",
      "From 11 PM on 2020-07-02 to 2 AM on 2020-07-03 \n",
      "\n",
      "2020-07-03 at 8 AM\n",
      "\n",
      "2020-07-04, from 12 AM to 3 AM \n",
      "\n",
      "2020-07-04 at 8 AM\n",
      "\n"
     ]
    }
   ],
   "source": [
    "for group in groups:\n",
    "    mask = df_good_condis.index.isin(group)\n",
    "    group_df = df_good_condis[mask]\n",
    "#     print(group_df)\n",
    "    if len(group) > 1:\n",
    "\n",
    "        first_timestamp = group_df['timestamp'].iloc[0]\n",
    "        first_date = first_timestamp.date()\n",
    "        first_time = first_timestamp.time()\n",
    "        last_timestamp = group_df['timestamp'].iloc[-1]\n",
    "        last_date = last_timestamp.date()\n",
    "        last_time = last_timestamp.time()\n",
    "        \n",
    "        if first_date == last_date:\n",
    "            print(f\"{first_date}, from {first_time.strftime(time_format)} to {last_time.strftime(time_format)} \")\n",
    "        else:\n",
    "            print(f\"From {first_time.strftime(time_format)} on {first_date} to {last_time.strftime(time_format)} on {last_date} \")\n",
    "    else:\n",
    "        timestamp = group_df['timestamp'].iloc[0]\n",
    "        date = timestamp.date()\n",
    "        time = timestamp.time()\n",
    "        print(f\"{date} at {time.strftime(time_format)}\")\n",
    "    print()\n",
    "#         print(type(first_timestamp))\n",
    "#     print(group)\n",
    "#     print(group_df)\n",
    "#     print()"
   ]
  },
  {
   "cell_type": "code",
   "execution_count": 95,
   "metadata": {
    "collapsed": false
   },
   "outputs": [
    {
     "data": {
      "text/plain": [
       "array([False, False, False, False, False, False, False, False, False,\n",
       "       False, False, False, False, False, False, False, False, False,\n",
       "       False, False, False, False, False, False,  True])"
      ]
     },
     "execution_count": 95,
     "metadata": {},
     "output_type": "execute_result"
    }
   ],
   "source": [
    "df_good_condis.index.isin([169])"
   ]
  },
  {
   "cell_type": "code",
   "execution_count": null,
   "metadata": {
    "collapsed": true
   },
   "outputs": [],
   "source": []
  }
 ],
 "metadata": {
  "anaconda-cloud": {},
  "kernelspec": {
   "display_name": "weather",
   "language": "python",
   "name": "weather"
  },
  "language_info": {
   "codemirror_mode": {
    "name": "ipython",
    "version": 3
   },
   "file_extension": ".py",
   "mimetype": "text/x-python",
   "name": "python",
   "nbconvert_exporter": "python",
   "pygments_lexer": "ipython3",
   "version": "3.7.7"
  }
 },
 "nbformat": 4,
 "nbformat_minor": 1
}
