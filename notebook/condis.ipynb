{
 "cells": [
  {
   "cell_type": "markdown",
   "metadata": {},
   "source": [
    "# Condis "
   ]
  },
  {
   "cell_type": "code",
   "execution_count": 56,
   "metadata": {
    "collapsed": false
   },
   "outputs": [],
   "source": [
    "import requests\n",
    "import numpy as np\n",
    "import pandas as pd\n",
    "from functools import reduce\n",
    "from datetime import datetime,timedelta\n",
    "import matplotlib.pyplot as plt\n",
    "%matplotlib inline"
   ]
  },
  {
   "cell_type": "code",
   "execution_count": 48,
   "metadata": {
    "collapsed": true
   },
   "outputs": [],
   "source": [
    "# Make GET request\n",
    "response = requests.get('https://api.weather.gov/gridpoints/PHI/58,91')"
   ]
  },
  {
   "cell_type": "code",
   "execution_count": 49,
   "metadata": {
    "collapsed": false
   },
   "outputs": [],
   "source": [
    "# Convert response to python dict\n",
    "j=response.json()"
   ]
  },
  {
   "cell_type": "code",
   "execution_count": 50,
   "metadata": {
    "collapsed": false
   },
   "outputs": [],
   "source": [
    "# Get all properties and then extract the ones I will use\n",
    "properties=j['properties']"
   ]
  },
  {
   "cell_type": "code",
   "execution_count": 51,
   "metadata": {
    "collapsed": false
   },
   "outputs": [],
   "source": [
    "temp_dicts=properties['temperature']\n",
    "hum_dicts=properties['relativeHumidity']\n",
    "precip_dicts=properties['probabilityOfPrecipitation']\n",
    "# May want to consider snow level as well since this may be relevant for certain areas"
   ]
  },
  {
   "cell_type": "code",
   "execution_count": 58,
   "metadata": {
    "collapsed": true
   },
   "outputs": [],
   "source": [
    "def init_temp_df():\n",
    "    temp_lists=temp_dicts['values']\n",
    "    df_temp=pd.DataFrame(temp_lists)\n",
    "    df_temp['temp_f']=df_temp['value']*9/5.+32\n",
    "    df_temp['timestamp']=pd.to_datetime(df_temp['validTime'].map(lambda x: str(x).split('+')[0]))\n",
    "    # set to local time from UTC (default)\n",
    "    df_temp['timestamp']-=timedelta(hours=4)\n",
    "    df_temp['msr_duration']=df_temp['validTime'].map(lambda x: int(str(x).split('PT')[-1].split('H')[0]))\n",
    "    df_temp.drop(['validTime','value'],axis=1,inplace=True)\n",
    "    df_temp = df_temp[['timestamp','msr_duration','temp_f']]\n",
    "    return df_temp\n",
    "\n",
    "def init_hum_df():\n",
    "    hum_lists=hum_dicts['values']\n",
    "    df_hum=pd.DataFrame(hum_lists)\n",
    "    df_hum['relativeHumidity'] = df_hum['value']\n",
    "    df_hum['timestamp']=pd.to_datetime(df_hum['validTime'].map(lambda x: str(x).split('+')[0]))\n",
    "    df_hum['timestamp']-=timedelta(hours=4)\n",
    "    df_hum['msr_duration']=df_hum['validTime'].map(lambda x: int(str(x).split('PT')[-1].split('H')[0]))\n",
    "    df_hum.drop(['validTime','value'],axis=1,inplace=True)\n",
    "    df_hum = df_hum[['timestamp','msr_duration','relativeHumidity']]\n",
    "    return df_hum\n",
    "\n",
    "def init_precip_df():\n",
    "    precip_lists=precip_dicts['values']\n",
    "    df_precip=pd.DataFrame(precip_lists)\n",
    "    df_precip['probabilityOfPrecipitation'] = df_precip['value']\n",
    "    df_precip['timestamp']=pd.to_datetime(df_precip['validTime'].map(lambda x: str(x).split('+')[0]))\n",
    "    df_precip['timestamp']-=timedelta(hours=4)\n",
    "    df_precip['msr_duration']=df_precip['validTime'].map(lambda x: int(str(x).split('PT')[-1].split('H')[0]))\n",
    "    df_precip.drop(['validTime','value'],axis=1,inplace=True)\n",
    "    df_precip = df_precip[['timestamp','msr_duration','probabilityOfPrecipitation']]\n",
    "    return df_precip\n",
    "\n",
    "def expand_dataframe(df):\n",
    "    \"\"\"For any rows where the duration of the measurement\n",
    "    is over more than one hour, make a new row duplicate row \n",
    "    (but with incremented timestamp) for each hour in the duration\"\"\"\n",
    "    dfc = df.copy() # makes a copy so the original is not affected\n",
    "    mask = dfc['msr_duration'] > 1\n",
    "    n_rows_multiple_durations = len(dfc[mask]) # variable to store the number of rows where the measurement stands for multiple hours\n",
    "    print(f\"There are originally {n_rows_multiple_durations} multiple rows\")\n",
    "    counter = 0\n",
    "    while n_rows_multiple_durations > 0:\n",
    "        # Make a new dataframe that is just the rows with multiples\n",
    "        new_dfc = dfc.loc[mask].copy()\n",
    "        # set all of the masked rows in the original dataframe to 1 since we will combine back with this dfc in the end\n",
    "        dfc['msr_duration'][mask]=1\n",
    "        # In this new dataframe, increment the timestamp by 1 hour and decrement the msr_duration by 1 hour\n",
    "        new_dfc['timestamp'] += timedelta(hours=1)\n",
    "        new_dfc['msr_duration']-=1\n",
    "        # concatenate this new dfc that we have transformed back with the original, and overwrite the original\n",
    "        dfc = pd.concat([dfc,new_dfc])\n",
    "        # calculate the new mask of multiples on this concatenated array\n",
    "        mask = dfc['msr_duration'] > 1\n",
    "        n_rows_multiple_durations = len(dfc[mask])\n",
    "        counter+=1\n",
    "    # Finally sort by timestamp so the rows fall back in order\n",
    "    dfc = dfc.sort_values('timestamp')\n",
    "    # set the index to a proper increasing numerical index without duplicates\n",
    "    dfc.index = list(range(len(dfc)))\n",
    "    dfc.drop(['msr_duration'],axis=1,inplace=True)\n",
    "    return dfc"
   ]
  },
  {
   "cell_type": "code",
   "execution_count": 59,
   "metadata": {
    "collapsed": false
   },
   "outputs": [],
   "source": [
    "# initialize all dataframes\n",
    "df_temp = init_temp_df()\n",
    "df_hum = init_hum_df()\n",
    "df_precip = init_precip_df()"
   ]
  },
  {
   "cell_type": "code",
   "execution_count": 54,
   "metadata": {
    "collapsed": false
   },
   "outputs": [
    {
     "name": "stdout",
     "output_type": "stream",
     "text": [
      "182\n",
      "182\n",
      "181\n"
     ]
    }
   ],
   "source": [
    "print(df_temp['msr_duration'].sum())\n",
    "print(df_hum['msr_duration'].sum())\n",
    "print(df_precip['msr_duration'].sum())"
   ]
  },
  {
   "cell_type": "code",
   "execution_count": null,
   "metadata": {
    "collapsed": true
   },
   "outputs": [],
   "source": [
    "# So it looks like at least sometimes the precipitation prediction has one less timestamp.\n",
    "# After checking it out it seems like it is always at the end\n",
    "# So when we merge the last value will be clipped off."
   ]
  },
  {
   "cell_type": "code",
   "execution_count": 60,
   "metadata": {
    "collapsed": false
   },
   "outputs": [
    {
     "name": "stdout",
     "output_type": "stream",
     "text": [
      "There are originally 14 multiple rows\n",
      "There are originally 16 multiple rows\n",
      "There are originally 24 multiple rows\n"
     ]
    },
    {
     "name": "stderr",
     "output_type": "stream",
     "text": [
      "/Users/athair/.local/lib/python3.7/site-packages/ipykernel_launcher.py:48: SettingWithCopyWarning: \n",
      "A value is trying to be set on a copy of a slice from a DataFrame\n",
      "\n",
      "See the caveats in the documentation: https://pandas.pydata.org/pandas-docs/stable/user_guide/indexing.html#returning-a-view-versus-a-copy\n"
     ]
    }
   ],
   "source": [
    "# Expand all dataframes\n",
    "df_temp_expanded = expand_dataframe(df_temp)\n",
    "df_hum_expanded = expand_dataframe(df_hum)\n",
    "df_precip_expanded = expand_dataframe(df_precip)"
   ]
  },
  {
   "cell_type": "code",
   "execution_count": 61,
   "metadata": {
    "collapsed": false
   },
   "outputs": [
    {
     "data": {
      "text/html": [
       "<div>\n",
       "<style scoped>\n",
       "    .dataframe tbody tr th:only-of-type {\n",
       "        vertical-align: middle;\n",
       "    }\n",
       "\n",
       "    .dataframe tbody tr th {\n",
       "        vertical-align: top;\n",
       "    }\n",
       "\n",
       "    .dataframe thead th {\n",
       "        text-align: right;\n",
       "    }\n",
       "</style>\n",
       "<table border=\"1\" class=\"dataframe\">\n",
       "  <thead>\n",
       "    <tr style=\"text-align: right;\">\n",
       "      <th></th>\n",
       "      <th>timestamp</th>\n",
       "      <th>temp_f</th>\n",
       "      <th>relativeHumidity</th>\n",
       "      <th>probabilityOfPrecipitation</th>\n",
       "    </tr>\n",
       "  </thead>\n",
       "  <tbody>\n",
       "    <tr>\n",
       "      <th>0</th>\n",
       "      <td>2020-06-27 07:00:00</td>\n",
       "      <td>68.0</td>\n",
       "      <td>81</td>\n",
       "      <td>20</td>\n",
       "    </tr>\n",
       "    <tr>\n",
       "      <th>1</th>\n",
       "      <td>2020-06-27 08:00:00</td>\n",
       "      <td>71.0</td>\n",
       "      <td>79</td>\n",
       "      <td>41</td>\n",
       "    </tr>\n",
       "    <tr>\n",
       "      <th>2</th>\n",
       "      <td>2020-06-27 09:00:00</td>\n",
       "      <td>76.0</td>\n",
       "      <td>69</td>\n",
       "      <td>42</td>\n",
       "    </tr>\n",
       "    <tr>\n",
       "      <th>3</th>\n",
       "      <td>2020-06-27 10:00:00</td>\n",
       "      <td>73.0</td>\n",
       "      <td>79</td>\n",
       "      <td>38</td>\n",
       "    </tr>\n",
       "    <tr>\n",
       "      <th>4</th>\n",
       "      <td>2020-06-27 11:00:00</td>\n",
       "      <td>76.0</td>\n",
       "      <td>76</td>\n",
       "      <td>48</td>\n",
       "    </tr>\n",
       "    <tr>\n",
       "      <th>...</th>\n",
       "      <td>...</td>\n",
       "      <td>...</td>\n",
       "      <td>...</td>\n",
       "      <td>...</td>\n",
       "    </tr>\n",
       "    <tr>\n",
       "      <th>176</th>\n",
       "      <td>2020-07-04 15:00:00</td>\n",
       "      <td>86.0</td>\n",
       "      <td>48</td>\n",
       "      <td>23</td>\n",
       "    </tr>\n",
       "    <tr>\n",
       "      <th>177</th>\n",
       "      <td>2020-07-04 16:00:00</td>\n",
       "      <td>87.0</td>\n",
       "      <td>46</td>\n",
       "      <td>23</td>\n",
       "    </tr>\n",
       "    <tr>\n",
       "      <th>178</th>\n",
       "      <td>2020-07-04 17:00:00</td>\n",
       "      <td>85.0</td>\n",
       "      <td>51</td>\n",
       "      <td>23</td>\n",
       "    </tr>\n",
       "    <tr>\n",
       "      <th>179</th>\n",
       "      <td>2020-07-04 18:00:00</td>\n",
       "      <td>84.0</td>\n",
       "      <td>53</td>\n",
       "      <td>23</td>\n",
       "    </tr>\n",
       "    <tr>\n",
       "      <th>180</th>\n",
       "      <td>2020-07-04 19:00:00</td>\n",
       "      <td>82.0</td>\n",
       "      <td>56</td>\n",
       "      <td>23</td>\n",
       "    </tr>\n",
       "  </tbody>\n",
       "</table>\n",
       "<p>181 rows × 4 columns</p>\n",
       "</div>"
      ],
      "text/plain": [
       "              timestamp  temp_f  relativeHumidity  probabilityOfPrecipitation\n",
       "0   2020-06-27 07:00:00    68.0                81                          20\n",
       "1   2020-06-27 08:00:00    71.0                79                          41\n",
       "2   2020-06-27 09:00:00    76.0                69                          42\n",
       "3   2020-06-27 10:00:00    73.0                79                          38\n",
       "4   2020-06-27 11:00:00    76.0                76                          48\n",
       "..                  ...     ...               ...                         ...\n",
       "176 2020-07-04 15:00:00    86.0                48                          23\n",
       "177 2020-07-04 16:00:00    87.0                46                          23\n",
       "178 2020-07-04 17:00:00    85.0                51                          23\n",
       "179 2020-07-04 18:00:00    84.0                53                          23\n",
       "180 2020-07-04 19:00:00    82.0                56                          23\n",
       "\n",
       "[181 rows x 4 columns]"
      ]
     },
     "execution_count": 61,
     "metadata": {},
     "output_type": "execute_result"
    }
   ],
   "source": [
    "# Merge all three \n",
    "dfs = [df_temp_expanded,df_hum_expanded,df_precip_expanded]\n",
    "df_final = reduce(lambda left,right: pd.merge(left,right,on='timestamp'), dfs)\n",
    "\n",
    "# df_final = df_temp_expanded.copy()\n",
    "# df_final['relativeHumidity'] = df_hum_expanded['relativeHumidity']\n",
    "# df_final['probabilityOfPrecipitation'] = df_precip_expanded['probabilityOfPrecipitation']\n",
    "df_final"
   ]
  },
  {
   "cell_type": "code",
   "execution_count": 70,
   "metadata": {
    "collapsed": false
   },
   "outputs": [],
   "source": [
    "# Now screen for values in certain ranges in both temp and humidity\n",
    "hum_min=0\n",
    "hum_max=85\n",
    "temp_min=40 # fahrenheit \n",
    "temp_max=75 \n",
    "precip_chance_max = 30\n",
    "temp_mask = (df_final['temp_f'] > temp_min) & (df_final['temp_f']<temp_max)\n",
    "hum_mask = (df_final['relativeHumidity'] > hum_min) & (df_final['relativeHumidity'] < hum_max) \n",
    "precip_mask = df_final['probabilityOfPrecipitation'] < precip_chance_max\n",
    "good_condis_mask = (temp_mask) & (hum_mask) & (precip_mask)\n",
    "df_final['condi']=good_condis_mask"
   ]
  },
  {
   "cell_type": "code",
   "execution_count": 71,
   "metadata": {
    "collapsed": false
   },
   "outputs": [
    {
     "data": {
      "image/png": "[encoded data removed]",
      "text/plain": [
       "<Figure size 432x288 with 4 Axes>"
      ]
     },
     "metadata": {
      "needs_background": "light"
     },
     "output_type": "display_data"
    }
   ],
   "source": [
    "fig, axs = plt.subplots(4, 1, sharex=True)\n",
    "fig.subplots_adjust(hspace=0)\n",
    "\n",
    "ax=axs[0]\n",
    "ax.plot(df_final['timestamp'],df_final['temp_f'],color='r')\n",
    "ax.set_ylabel(\"Temp (F)\")\n",
    "# now plot humidity on second axis\n",
    "ax_hum = axs[1]\n",
    "ax_hum.plot(df_final['timestamp'],df_final['relativeHumidity'],color='g')\n",
    "ax_hum.set_ylabel('% rel. hum.')\n",
    "# now plot the chance of precip\n",
    "ax_precip = axs[2]\n",
    "ax_precip.plot(df_final['timestamp'],df_final['probabilityOfPrecipitation'],color='magenta')\n",
    "ax_precip.set_ylabel('% chance precip.')\n",
    "# now plot the condis\n",
    "ax_condi=axs[3]\n",
    "ax_condi.plot(df_final['timestamp'],df_final['condi'],color='b')\n",
    "ax_condi.set_ylabel(\"Condis\")\n",
    "# Rotate tick marks on x-axis\n",
    "_=plt.setp(ax_condi.get_xticklabels(), rotation=45)\n",
    "title=fig.suptitle(f\"Condis forecast \")"
   ]
  },
  {
   "cell_type": "code",
   "execution_count": 72,
   "metadata": {
    "collapsed": false
   },
   "outputs": [
    {
     "data": {
      "text/plain": [
       "0     2020-06-27 07:00:00\n",
       "18    2020-06-28 01:00:00\n",
       "24    2020-06-28 07:00:00\n",
       "41    2020-06-29 00:00:00\n",
       "42    2020-06-29 01:00:00\n",
       "47    2020-06-29 06:00:00\n",
       "48    2020-06-29 07:00:00\n",
       "49    2020-06-29 08:00:00\n",
       "64    2020-06-29 23:00:00\n",
       "65    2020-06-30 00:00:00\n",
       "66    2020-06-30 01:00:00\n",
       "87    2020-06-30 22:00:00\n",
       "88    2020-06-30 23:00:00\n",
       "89    2020-07-01 00:00:00\n",
       "90    2020-07-01 01:00:00\n",
       "136   2020-07-02 23:00:00\n",
       "137   2020-07-03 00:00:00\n",
       "138   2020-07-03 01:00:00\n",
       "139   2020-07-03 02:00:00\n",
       "145   2020-07-03 08:00:00\n",
       "161   2020-07-04 00:00:00\n",
       "162   2020-07-04 01:00:00\n",
       "163   2020-07-04 02:00:00\n",
       "164   2020-07-04 03:00:00\n",
       "169   2020-07-04 08:00:00\n",
       "Name: timestamp, dtype: datetime64[ns]"
      ]
     },
     "execution_count": 72,
     "metadata": {},
     "output_type": "execute_result"
    }
   ],
   "source": [
    "best_times = df_final['timestamp'][good_condis_mask]\n",
    "best_times"
   ]
  },
  {
   "cell_type": "code",
   "execution_count": 83,
   "metadata": {
    "collapsed": false
   },
   "outputs": [
    {
     "data": {
      "text/html": [
       "<div>\n",
       "<style scoped>\n",
       "    .dataframe tbody tr th:only-of-type {\n",
       "        vertical-align: middle;\n",
       "    }\n",
       "\n",
       "    .dataframe tbody tr th {\n",
       "        vertical-align: top;\n",
       "    }\n",
       "\n",
       "    .dataframe thead th {\n",
       "        text-align: right;\n",
       "    }\n",
       "</style>\n",
       "<table border=\"1\" class=\"dataframe\">\n",
       "  <thead>\n",
       "    <tr style=\"text-align: right;\">\n",
       "      <th></th>\n",
       "      <th>timestamp</th>\n",
       "      <th>temp_f</th>\n",
       "      <th>relativeHumidity</th>\n",
       "      <th>probabilityOfPrecipitation</th>\n",
       "    </tr>\n",
       "  </thead>\n",
       "  <tbody>\n",
       "    <tr>\n",
       "      <th>0</th>\n",
       "      <td>2020-06-27 07:00:00</td>\n",
       "      <td>68.0</td>\n",
       "      <td>81</td>\n",
       "      <td>20</td>\n",
       "    </tr>\n",
       "    <tr>\n",
       "      <th>18</th>\n",
       "      <td>2020-06-28 01:00:00</td>\n",
       "      <td>74.0</td>\n",
       "      <td>84</td>\n",
       "      <td>18</td>\n",
       "    </tr>\n",
       "    <tr>\n",
       "      <th>24</th>\n",
       "      <td>2020-06-28 07:00:00</td>\n",
       "      <td>73.0</td>\n",
       "      <td>84</td>\n",
       "      <td>6</td>\n",
       "    </tr>\n",
       "    <tr>\n",
       "      <th>41</th>\n",
       "      <td>2020-06-29 00:00:00</td>\n",
       "      <td>73.0</td>\n",
       "      <td>81</td>\n",
       "      <td>12</td>\n",
       "    </tr>\n",
       "    <tr>\n",
       "      <th>42</th>\n",
       "      <td>2020-06-29 01:00:00</td>\n",
       "      <td>72.0</td>\n",
       "      <td>84</td>\n",
       "      <td>12</td>\n",
       "    </tr>\n",
       "    <tr>\n",
       "      <th>47</th>\n",
       "      <td>2020-06-29 06:00:00</td>\n",
       "      <td>72.0</td>\n",
       "      <td>81</td>\n",
       "      <td>8</td>\n",
       "    </tr>\n",
       "    <tr>\n",
       "      <th>48</th>\n",
       "      <td>2020-06-29 07:00:00</td>\n",
       "      <td>72.0</td>\n",
       "      <td>79</td>\n",
       "      <td>8</td>\n",
       "    </tr>\n",
       "    <tr>\n",
       "      <th>49</th>\n",
       "      <td>2020-06-29 08:00:00</td>\n",
       "      <td>72.0</td>\n",
       "      <td>79</td>\n",
       "      <td>7</td>\n",
       "    </tr>\n",
       "    <tr>\n",
       "      <th>64</th>\n",
       "      <td>2020-06-29 23:00:00</td>\n",
       "      <td>74.0</td>\n",
       "      <td>71</td>\n",
       "      <td>6</td>\n",
       "    </tr>\n",
       "    <tr>\n",
       "      <th>65</th>\n",
       "      <td>2020-06-30 00:00:00</td>\n",
       "      <td>72.0</td>\n",
       "      <td>76</td>\n",
       "      <td>6</td>\n",
       "    </tr>\n",
       "    <tr>\n",
       "      <th>66</th>\n",
       "      <td>2020-06-30 01:00:00</td>\n",
       "      <td>70.0</td>\n",
       "      <td>81</td>\n",
       "      <td>6</td>\n",
       "    </tr>\n",
       "    <tr>\n",
       "      <th>87</th>\n",
       "      <td>2020-06-30 22:00:00</td>\n",
       "      <td>74.0</td>\n",
       "      <td>74</td>\n",
       "      <td>28</td>\n",
       "    </tr>\n",
       "    <tr>\n",
       "      <th>88</th>\n",
       "      <td>2020-06-30 23:00:00</td>\n",
       "      <td>72.0</td>\n",
       "      <td>79</td>\n",
       "      <td>28</td>\n",
       "    </tr>\n",
       "    <tr>\n",
       "      <th>89</th>\n",
       "      <td>2020-07-01 00:00:00</td>\n",
       "      <td>71.0</td>\n",
       "      <td>81</td>\n",
       "      <td>28</td>\n",
       "    </tr>\n",
       "    <tr>\n",
       "      <th>90</th>\n",
       "      <td>2020-07-01 01:00:00</td>\n",
       "      <td>70.0</td>\n",
       "      <td>84</td>\n",
       "      <td>28</td>\n",
       "    </tr>\n",
       "    <tr>\n",
       "      <th>136</th>\n",
       "      <td>2020-07-02 23:00:00</td>\n",
       "      <td>74.0</td>\n",
       "      <td>74</td>\n",
       "      <td>19</td>\n",
       "    </tr>\n",
       "    <tr>\n",
       "      <th>137</th>\n",
       "      <td>2020-07-03 00:00:00</td>\n",
       "      <td>73.0</td>\n",
       "      <td>76</td>\n",
       "      <td>19</td>\n",
       "    </tr>\n",
       "    <tr>\n",
       "      <th>138</th>\n",
       "      <td>2020-07-03 01:00:00</td>\n",
       "      <td>71.0</td>\n",
       "      <td>81</td>\n",
       "      <td>19</td>\n",
       "    </tr>\n",
       "    <tr>\n",
       "      <th>139</th>\n",
       "      <td>2020-07-03 02:00:00</td>\n",
       "      <td>70.0</td>\n",
       "      <td>84</td>\n",
       "      <td>13</td>\n",
       "    </tr>\n",
       "    <tr>\n",
       "      <th>145</th>\n",
       "      <td>2020-07-03 08:00:00</td>\n",
       "      <td>73.0</td>\n",
       "      <td>81</td>\n",
       "      <td>22</td>\n",
       "    </tr>\n",
       "    <tr>\n",
       "      <th>161</th>\n",
       "      <td>2020-07-04 00:00:00</td>\n",
       "      <td>74.0</td>\n",
       "      <td>74</td>\n",
       "      <td>13</td>\n",
       "    </tr>\n",
       "    <tr>\n",
       "      <th>162</th>\n",
       "      <td>2020-07-04 01:00:00</td>\n",
       "      <td>73.0</td>\n",
       "      <td>79</td>\n",
       "      <td>13</td>\n",
       "    </tr>\n",
       "    <tr>\n",
       "      <th>163</th>\n",
       "      <td>2020-07-04 02:00:00</td>\n",
       "      <td>72.0</td>\n",
       "      <td>81</td>\n",
       "      <td>13</td>\n",
       "    </tr>\n",
       "    <tr>\n",
       "      <th>164</th>\n",
       "      <td>2020-07-04 03:00:00</td>\n",
       "      <td>71.0</td>\n",
       "      <td>84</td>\n",
       "      <td>13</td>\n",
       "    </tr>\n",
       "    <tr>\n",
       "      <th>169</th>\n",
       "      <td>2020-07-04 08:00:00</td>\n",
       "      <td>73.0</td>\n",
       "      <td>81</td>\n",
       "      <td>23</td>\n",
       "    </tr>\n",
       "  </tbody>\n",
       "</table>\n",
       "</div>"
      ],
      "text/plain": [
       "              timestamp  temp_f  relativeHumidity  probabilityOfPrecipitation\n",
       "0   2020-06-27 07:00:00    68.0                81                          20\n",
       "18  2020-06-28 01:00:00    74.0                84                          18\n",
       "24  2020-06-28 07:00:00    73.0                84                           6\n",
       "41  2020-06-29 00:00:00    73.0                81                          12\n",
       "42  2020-06-29 01:00:00    72.0                84                          12\n",
       "47  2020-06-29 06:00:00    72.0                81                           8\n",
       "48  2020-06-29 07:00:00    72.0                79                           8\n",
       "49  2020-06-29 08:00:00    72.0                79                           7\n",
       "64  2020-06-29 23:00:00    74.0                71                           6\n",
       "65  2020-06-30 00:00:00    72.0                76                           6\n",
       "66  2020-06-30 01:00:00    70.0                81                           6\n",
       "87  2020-06-30 22:00:00    74.0                74                          28\n",
       "88  2020-06-30 23:00:00    72.0                79                          28\n",
       "89  2020-07-01 00:00:00    71.0                81                          28\n",
       "90  2020-07-01 01:00:00    70.0                84                          28\n",
       "136 2020-07-02 23:00:00    74.0                74                          19\n",
       "137 2020-07-03 00:00:00    73.0                76                          19\n",
       "138 2020-07-03 01:00:00    71.0                81                          19\n",
       "139 2020-07-03 02:00:00    70.0                84                          13\n",
       "145 2020-07-03 08:00:00    73.0                81                          22\n",
       "161 2020-07-04 00:00:00    74.0                74                          13\n",
       "162 2020-07-04 01:00:00    73.0                79                          13\n",
       "163 2020-07-04 02:00:00    72.0                81                          13\n",
       "164 2020-07-04 03:00:00    71.0                84                          13\n",
       "169 2020-07-04 08:00:00    73.0                81                          23"
      ]
     },
     "execution_count": 83,
     "metadata": {},
     "output_type": "execute_result"
    }
   ],
   "source": [
    "df_good_condis=df_final[['timestamp','temp_f','relativeHumidity','probabilityOfPrecipitation']][good_condis_mask]\n",
    "df_good_condis"
   ]
  },
  {
   "cell_type": "code",
   "execution_count": null,
   "metadata": {
    "collapsed": true
   },
   "outputs": [],
   "source": [
    "# Given this information how to display it?\n",
    "# One option is table text format, e.g. \n",
    "# Wednesday, July 1 from 2:00 PM to 5:00 PM\n",
    "# Thursday, July 7 from 7:00 AM to 11:00 AM\n",
    "\n",
    "# Let's see how to do that"
   ]
  },
  {
   "cell_type": "code",
   "execution_count": 75,
   "metadata": {
    "collapsed": false
   },
   "outputs": [],
   "source": [
    "def splitme_zip(a,d):\n",
    "    \"\"\" a: numpy array\n",
    "        d: minimum gap between elements\n",
    "    \"\"\"\n",
    "    m = np.concatenate(([True],a[1:] > a[:-1] + d,[True]))\n",
    "    idx = np.flatnonzero(m)\n",
    "    l = a.tolist()\n",
    "    return [l[i:j] for i,j in zip(idx[:-1],idx[1:])]"
   ]
  },
  {
   "cell_type": "code",
   "execution_count": 78,
   "metadata": {
    "collapsed": true
   },
   "outputs": [],
   "source": [
    "a = np.array([1,2,3,5,7,10,13,16,20])\n",
    "d=1"
   ]
  },
  {
   "cell_type": "code",
   "execution_count": 79,
   "metadata": {
    "collapsed": false
   },
   "outputs": [
    {
     "data": {
      "text/plain": [
       "[[1, 2, 3], [5], [7], [10], [13], [16], [20]]"
      ]
     },
     "execution_count": 79,
     "metadata": {},
     "output_type": "execute_result"
    }
   ],
   "source": [
    "splitme_zip(a,d)"
   ]
  },
  {
   "cell_type": "code",
   "execution_count": 80,
   "metadata": {
    "collapsed": false
   },
   "outputs": [
    {
     "name": "stdout",
     "output_type": "stream",
     "text": [
      "CPU times: user 111 µs, sys: 45 µs, total: 156 µs\n",
      "Wall time: 140 µs\n"
     ]
    },
    {
     "data": {
      "text/plain": [
       "[[1, 2, 3], [5], [7], [10], [13], [16], [20]]"
      ]
     },
     "execution_count": 80,
     "metadata": {},
     "output_type": "execute_result"
    }
   ],
   "source": [
    "%%time \n",
    "splitme_zip(a,d)"
   ]
  },
  {
   "cell_type": "code",
   "execution_count": 82,
   "metadata": {
    "collapsed": false
   },
   "outputs": [
    {
     "data": {
      "text/plain": [
       "Int64Index([  0,   1,   2,   3,   4,   5,   6,   7,   8,   9,\n",
       "            ...\n",
       "            171, 172, 173, 174, 175, 176, 177, 178, 179, 180],\n",
       "           dtype='int64', length=181)"
      ]
     },
     "execution_count": 82,
     "metadata": {},
     "output_type": "execute_result"
    }
   ],
   "source": [
    "df_final.index"
   ]
  },
  {
   "cell_type": "code",
   "execution_count": 85,
   "metadata": {
    "collapsed": false
   },
   "outputs": [
    {
     "data": {
      "text/plain": [
       "array([  0,  18,  24,  41,  42,  47,  48,  49,  64,  65,  66,  87,  88,\n",
       "        89,  90, 136, 137, 138, 139, 145, 161, 162, 163, 164, 169])"
      ]
     },
     "execution_count": 85,
     "metadata": {},
     "output_type": "execute_result"
    }
   ],
   "source": [
    "np.array(df_good_condis.index)"
   ]
  },
  {
   "cell_type": "code",
   "execution_count": 87,
   "metadata": {
    "collapsed": false
   },
   "outputs": [],
   "source": [
    "groups=splitme_zip(np.array(df_good_condis.index),d=1)"
   ]
  },
  {
   "cell_type": "code",
   "execution_count": 127,
   "metadata": {
    "collapsed": true
   },
   "outputs": [],
   "source": [
    "time_format = '%-I %p'"
   ]
  },
  {
   "cell_type": "code",
   "execution_count": 128,
   "metadata": {
    "collapsed": false
   },
   "outputs": [
    {
     "name": "stdout",
     "output_type": "stream",
     "text": [
      "2020-06-27 at 7 AM\n",
      "\n",
      "2020-06-28 at 1 AM\n",
      "\n",
      "2020-06-28 at 7 AM\n",
      "\n",
      "2020-06-29, from 12 AM to 1 AM \n",
      "\n",
      "2020-06-29, from 6 AM to 8 AM \n",
      "\n",
      "From 11 PM on 2020-06-29 to 1 AM on 2020-06-30 \n",
      "\n",
      "From 10 PM on 2020-06-30 to 1 AM on 2020-07-01 \n",
      "\n",
      "From 11 PM on 2020-07-02 to 2 AM on 2020-07-03 \n",
      "\n",
      "2020-07-03 at 8 AM\n",
      "\n",
      "2020-07-04, from 12 AM to 3 AM \n",
      "\n",
      "2020-07-04 at 8 AM\n",
      "\n"
     ]
    }
   ],
   "source": [
    "for group in groups:\n",
    "    mask = df_good_condis.index.isin(group)\n",
    "    group_df = df_good_condis[mask]\n",
    "#     print(group_df)\n",
    "    if len(group) > 1:\n",
    "\n",
    "        first_timestamp = group_df['timestamp'].iloc[0]\n",
    "        first_date = first_timestamp.date()\n",
    "        first_time = first_timestamp.time()\n",
    "        last_timestamp = group_df['timestamp'].iloc[-1]\n",
    "        last_date = last_timestamp.date()\n",
    "        last_time = last_timestamp.time()\n",
    "        \n",
    "        if first_date == last_date:\n",
    "            print(f\"{first_date}, from {first_time.strftime(time_format)} to {last_time.strftime(time_format)} \")\n",
    "        else:\n",
    "            print(f\"From {first_time.strftime(time_format)} on {first_date} to {last_time.strftime(time_format)} on {last_date} \")\n",
    "    else:\n",
    "        timestamp = group_df['timestamp'].iloc[0]\n",
    "        date = timestamp.date()\n",
    "        time = timestamp.time()\n",
    "        print(f\"{date} at {time.strftime(time_format)}\")\n",
    "    print()\n",
    "#         print(type(first_timestamp))\n",
    "#     print(group)\n",
    "#     print(group_df)\n",
    "#     print()"
   ]
  },
  {
   "cell_type": "code",
   "execution_count": 95,
   "metadata": {
    "collapsed": false
   },
   "outputs": [
    {
     "data": {
      "text/plain": [
       "array([False, False, False, False, False, False, False, False, False,\n",
       "       False, False, False, False, False, False, False, False, False,\n",
       "       False, False, False, False, False, False,  True])"
      ]
     },
     "execution_count": 95,
     "metadata": {},
     "output_type": "execute_result"
    }
   ],
   "source": [
    "df_good_condis.index.isin([169])"
   ]
  },
  {
   "cell_type": "code",
   "execution_count": null,
   "metadata": {
    "collapsed": true
   },
   "outputs": [],
   "source": []
  }
 ],
 "metadata": {
  "anaconda-cloud": {},
  "kernelspec": {
   "display_name": "weather",
   "language": "python",
   "name": "weather"
  },
  "language_info": {
   "codemirror_mode": {
    "name": "ipython",
    "version": 3
   },
   "file_extension": ".py",
   "mimetype": "text/x-python",
   "name": "python",
   "nbconvert_exporter": "python",
   "pygments_lexer": "ipython3",
   "version": "3.7.7"
  }
 },
 "nbformat": 4,
 "nbformat_minor": 1
}
